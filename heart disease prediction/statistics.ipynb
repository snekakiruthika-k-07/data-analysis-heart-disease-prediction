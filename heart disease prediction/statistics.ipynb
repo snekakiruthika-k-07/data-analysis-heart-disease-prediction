{
 "cells": [
  {
   "cell_type": "code",
   "execution_count": 1,
   "metadata": {},
   "outputs": [],
   "source": [
    "import pandas as pd\n",
    "import numpy as np\n",
    "import matplotlib.pyplot as plt "
   ]
  },
  {
   "cell_type": "code",
   "execution_count": 2,
   "metadata": {},
   "outputs": [
    {
     "data": {
      "text/html": [
       "<div>\n",
       "<style scoped>\n",
       "    .dataframe tbody tr th:only-of-type {\n",
       "        vertical-align: middle;\n",
       "    }\n",
       "\n",
       "    .dataframe tbody tr th {\n",
       "        vertical-align: top;\n",
       "    }\n",
       "\n",
       "    .dataframe thead th {\n",
       "        text-align: right;\n",
       "    }\n",
       "</style>\n",
       "<table border=\"1\" class=\"dataframe\">\n",
       "  <thead>\n",
       "    <tr style=\"text-align: right;\">\n",
       "      <th></th>\n",
       "      <th>age</th>\n",
       "      <th>sex</th>\n",
       "      <th>cp</th>\n",
       "      <th>trestbps</th>\n",
       "      <th>chol</th>\n",
       "      <th>fbs</th>\n",
       "      <th>restecg</th>\n",
       "      <th>thalach</th>\n",
       "      <th>exang</th>\n",
       "      <th>oldpeak</th>\n",
       "      <th>slope</th>\n",
       "      <th>ca</th>\n",
       "      <th>thal</th>\n",
       "      <th>target</th>\n",
       "    </tr>\n",
       "  </thead>\n",
       "  <tbody>\n",
       "    <tr>\n",
       "      <th>0</th>\n",
       "      <td>63</td>\n",
       "      <td>1</td>\n",
       "      <td>3</td>\n",
       "      <td>145</td>\n",
       "      <td>233.0</td>\n",
       "      <td>1</td>\n",
       "      <td>0.0</td>\n",
       "      <td>150.0</td>\n",
       "      <td>0.0</td>\n",
       "      <td>2.3</td>\n",
       "      <td>0</td>\n",
       "      <td>0</td>\n",
       "      <td>1</td>\n",
       "      <td>1</td>\n",
       "    </tr>\n",
       "    <tr>\n",
       "      <th>1</th>\n",
       "      <td>37</td>\n",
       "      <td>1</td>\n",
       "      <td>2</td>\n",
       "      <td>130</td>\n",
       "      <td>250.0</td>\n",
       "      <td>0</td>\n",
       "      <td>1.0</td>\n",
       "      <td>187.0</td>\n",
       "      <td>0.0</td>\n",
       "      <td>3.5</td>\n",
       "      <td>0</td>\n",
       "      <td>0</td>\n",
       "      <td>2</td>\n",
       "      <td>1</td>\n",
       "    </tr>\n",
       "    <tr>\n",
       "      <th>2</th>\n",
       "      <td>41</td>\n",
       "      <td>0</td>\n",
       "      <td>1</td>\n",
       "      <td>130</td>\n",
       "      <td>204.0</td>\n",
       "      <td>0</td>\n",
       "      <td>0.0</td>\n",
       "      <td>172.0</td>\n",
       "      <td>0.0</td>\n",
       "      <td>1.4</td>\n",
       "      <td>2</td>\n",
       "      <td>0</td>\n",
       "      <td>2</td>\n",
       "      <td>1</td>\n",
       "    </tr>\n",
       "    <tr>\n",
       "      <th>3</th>\n",
       "      <td>56</td>\n",
       "      <td>1</td>\n",
       "      <td>1</td>\n",
       "      <td>120</td>\n",
       "      <td>236.0</td>\n",
       "      <td>0</td>\n",
       "      <td>1.0</td>\n",
       "      <td>178.0</td>\n",
       "      <td>0.0</td>\n",
       "      <td>0.8</td>\n",
       "      <td>2</td>\n",
       "      <td>0</td>\n",
       "      <td>2</td>\n",
       "      <td>1</td>\n",
       "    </tr>\n",
       "    <tr>\n",
       "      <th>4</th>\n",
       "      <td>57</td>\n",
       "      <td>0</td>\n",
       "      <td>0</td>\n",
       "      <td>120</td>\n",
       "      <td>354.0</td>\n",
       "      <td>0</td>\n",
       "      <td>1.0</td>\n",
       "      <td>163.0</td>\n",
       "      <td>1.0</td>\n",
       "      <td>0.6</td>\n",
       "      <td>2</td>\n",
       "      <td>0</td>\n",
       "      <td>2</td>\n",
       "      <td>1</td>\n",
       "    </tr>\n",
       "    <tr>\n",
       "      <th>...</th>\n",
       "      <td>...</td>\n",
       "      <td>...</td>\n",
       "      <td>...</td>\n",
       "      <td>...</td>\n",
       "      <td>...</td>\n",
       "      <td>...</td>\n",
       "      <td>...</td>\n",
       "      <td>...</td>\n",
       "      <td>...</td>\n",
       "      <td>...</td>\n",
       "      <td>...</td>\n",
       "      <td>...</td>\n",
       "      <td>...</td>\n",
       "      <td>...</td>\n",
       "    </tr>\n",
       "    <tr>\n",
       "      <th>304</th>\n",
       "      <td>57</td>\n",
       "      <td>0</td>\n",
       "      <td>0</td>\n",
       "      <td>140</td>\n",
       "      <td>241.0</td>\n",
       "      <td>0</td>\n",
       "      <td>1.0</td>\n",
       "      <td>123.0</td>\n",
       "      <td>1.0</td>\n",
       "      <td>0.2</td>\n",
       "      <td>1</td>\n",
       "      <td>0</td>\n",
       "      <td>3</td>\n",
       "      <td>0</td>\n",
       "    </tr>\n",
       "    <tr>\n",
       "      <th>305</th>\n",
       "      <td>45</td>\n",
       "      <td>1</td>\n",
       "      <td>3</td>\n",
       "      <td>110</td>\n",
       "      <td>264.0</td>\n",
       "      <td>0</td>\n",
       "      <td>1.0</td>\n",
       "      <td>132.0</td>\n",
       "      <td>0.0</td>\n",
       "      <td>1.2</td>\n",
       "      <td>1</td>\n",
       "      <td>0</td>\n",
       "      <td>3</td>\n",
       "      <td>0</td>\n",
       "    </tr>\n",
       "    <tr>\n",
       "      <th>306</th>\n",
       "      <td>68</td>\n",
       "      <td>1</td>\n",
       "      <td>0</td>\n",
       "      <td>144</td>\n",
       "      <td>193.0</td>\n",
       "      <td>1</td>\n",
       "      <td>1.0</td>\n",
       "      <td>141.0</td>\n",
       "      <td>0.0</td>\n",
       "      <td>3.4</td>\n",
       "      <td>1</td>\n",
       "      <td>2</td>\n",
       "      <td>3</td>\n",
       "      <td>0</td>\n",
       "    </tr>\n",
       "    <tr>\n",
       "      <th>307</th>\n",
       "      <td>57</td>\n",
       "      <td>1</td>\n",
       "      <td>0</td>\n",
       "      <td>130</td>\n",
       "      <td>131.0</td>\n",
       "      <td>0</td>\n",
       "      <td>1.0</td>\n",
       "      <td>115.0</td>\n",
       "      <td>1.0</td>\n",
       "      <td>1.2</td>\n",
       "      <td>1</td>\n",
       "      <td>1</td>\n",
       "      <td>3</td>\n",
       "      <td>0</td>\n",
       "    </tr>\n",
       "    <tr>\n",
       "      <th>308</th>\n",
       "      <td>57</td>\n",
       "      <td>0</td>\n",
       "      <td>1</td>\n",
       "      <td>130</td>\n",
       "      <td>236.0</td>\n",
       "      <td>0</td>\n",
       "      <td>0.0</td>\n",
       "      <td>174.0</td>\n",
       "      <td>0.0</td>\n",
       "      <td>0.0</td>\n",
       "      <td>1</td>\n",
       "      <td>1</td>\n",
       "      <td>2</td>\n",
       "      <td>0</td>\n",
       "    </tr>\n",
       "  </tbody>\n",
       "</table>\n",
       "<p>309 rows × 14 columns</p>\n",
       "</div>"
      ],
      "text/plain": [
       "     age  sex  cp  trestbps   chol  fbs  restecg  thalach  exang  oldpeak  \\\n",
       "0     63    1   3       145  233.0    1      0.0    150.0    0.0      2.3   \n",
       "1     37    1   2       130  250.0    0      1.0    187.0    0.0      3.5   \n",
       "2     41    0   1       130  204.0    0      0.0    172.0    0.0      1.4   \n",
       "3     56    1   1       120  236.0    0      1.0    178.0    0.0      0.8   \n",
       "4     57    0   0       120  354.0    0      1.0    163.0    1.0      0.6   \n",
       "..   ...  ...  ..       ...    ...  ...      ...      ...    ...      ...   \n",
       "304   57    0   0       140  241.0    0      1.0    123.0    1.0      0.2   \n",
       "305   45    1   3       110  264.0    0      1.0    132.0    0.0      1.2   \n",
       "306   68    1   0       144  193.0    1      1.0    141.0    0.0      3.4   \n",
       "307   57    1   0       130  131.0    0      1.0    115.0    1.0      1.2   \n",
       "308   57    0   1       130  236.0    0      0.0    174.0    0.0      0.0   \n",
       "\n",
       "     slope  ca  thal  target  \n",
       "0        0   0     1       1  \n",
       "1        0   0     2       1  \n",
       "2        2   0     2       1  \n",
       "3        2   0     2       1  \n",
       "4        2   0     2       1  \n",
       "..     ...  ..   ...     ...  \n",
       "304      1   0     3       0  \n",
       "305      1   0     3       0  \n",
       "306      1   2     3       0  \n",
       "307      1   1     3       0  \n",
       "308      1   1     2       0  \n",
       "\n",
       "[309 rows x 14 columns]"
      ]
     },
     "execution_count": 2,
     "metadata": {},
     "output_type": "execute_result"
    }
   ],
   "source": [
    "#descriptive statistics \n",
    "#distribution of data \n",
    "df = pd.read_csv(\"heart disease prediction.csv\")\n",
    "df"
   ]
  },
  {
   "cell_type": "code",
   "execution_count": 3,
   "metadata": {},
   "outputs": [
    {
     "data": {
      "text/plain": [
       "trestbps    131.715210\n",
       "chol        245.255738\n",
       "thalach     149.141447\n",
       "oldpeak       1.034967\n",
       "slope         1.391586\n",
       "thal          2.317152\n",
       "age          54.420712\n",
       "dtype: float64"
      ]
     },
     "execution_count": 3,
     "metadata": {},
     "output_type": "execute_result"
    }
   ],
   "source": [
    "#mean value \n",
    "columns_to_change = ['trestbps','chol','thalach','oldpeak','slope','thal','age']\n",
    "a = df[columns_to_change].mean()\n",
    "a"
   ]
  },
  {
   "cell_type": "code",
   "execution_count": 4,
   "metadata": {},
   "outputs": [
    {
     "data": {
      "text/plain": [
       "trestbps    130.0\n",
       "chol        240.0\n",
       "thalach     152.0\n",
       "oldpeak       0.8\n",
       "slope         1.0\n",
       "thal          2.0\n",
       "age          56.0\n",
       "dtype: float64"
      ]
     },
     "execution_count": 4,
     "metadata": {},
     "output_type": "execute_result"
    }
   ],
   "source": [
    "#median value\n",
    "columns_to_change = ['trestbps','chol','thalach','oldpeak','slope','thal','age']\n",
    "a = df[columns_to_change].median()\n",
    "a"
   ]
  },
  {
   "cell_type": "code",
   "execution_count": 5,
   "metadata": {},
   "outputs": [
    {
     "data": {
      "text/html": [
       "<div>\n",
       "<style scoped>\n",
       "    .dataframe tbody tr th:only-of-type {\n",
       "        vertical-align: middle;\n",
       "    }\n",
       "\n",
       "    .dataframe tbody tr th {\n",
       "        vertical-align: top;\n",
       "    }\n",
       "\n",
       "    .dataframe thead th {\n",
       "        text-align: right;\n",
       "    }\n",
       "</style>\n",
       "<table border=\"1\" class=\"dataframe\">\n",
       "  <thead>\n",
       "    <tr style=\"text-align: right;\">\n",
       "      <th></th>\n",
       "      <th>trestbps</th>\n",
       "      <th>chol</th>\n",
       "      <th>thalach</th>\n",
       "      <th>oldpeak</th>\n",
       "      <th>slope</th>\n",
       "      <th>thal</th>\n",
       "      <th>age</th>\n",
       "    </tr>\n",
       "  </thead>\n",
       "  <tbody>\n",
       "    <tr>\n",
       "      <th>0</th>\n",
       "      <td>130.0</td>\n",
       "      <td>197.0</td>\n",
       "      <td>162.0</td>\n",
       "      <td>0.0</td>\n",
       "      <td>1.0</td>\n",
       "      <td>2.0</td>\n",
       "      <td>57.0</td>\n",
       "    </tr>\n",
       "    <tr>\n",
       "      <th>1</th>\n",
       "      <td>NaN</td>\n",
       "      <td>204.0</td>\n",
       "      <td>NaN</td>\n",
       "      <td>NaN</td>\n",
       "      <td>NaN</td>\n",
       "      <td>NaN</td>\n",
       "      <td>NaN</td>\n",
       "    </tr>\n",
       "    <tr>\n",
       "      <th>2</th>\n",
       "      <td>NaN</td>\n",
       "      <td>234.0</td>\n",
       "      <td>NaN</td>\n",
       "      <td>NaN</td>\n",
       "      <td>NaN</td>\n",
       "      <td>NaN</td>\n",
       "      <td>NaN</td>\n",
       "    </tr>\n",
       "  </tbody>\n",
       "</table>\n",
       "</div>"
      ],
      "text/plain": [
       "   trestbps   chol  thalach  oldpeak  slope  thal   age\n",
       "0     130.0  197.0    162.0      0.0    1.0   2.0  57.0\n",
       "1       NaN  204.0      NaN      NaN    NaN   NaN   NaN\n",
       "2       NaN  234.0      NaN      NaN    NaN   NaN   NaN"
      ]
     },
     "execution_count": 5,
     "metadata": {},
     "output_type": "execute_result"
    }
   ],
   "source": [
    "#mode value\n",
    "columns_to_change = ['trestbps','chol','thalach','oldpeak','slope','thal','age']\n",
    "a = df[columns_to_change].mode()\n",
    "a"
   ]
  },
  {
   "cell_type": "code",
   "execution_count": 6,
   "metadata": {},
   "outputs": [
    {
     "data": {
      "text/plain": [
       "trestbps    200.0\n",
       "chol        564.0\n",
       "thalach     202.0\n",
       "oldpeak       6.2\n",
       "slope         2.0\n",
       "thal          3.0\n",
       "age          77.0\n",
       "dtype: float64"
      ]
     },
     "execution_count": 6,
     "metadata": {},
     "output_type": "execute_result"
    }
   ],
   "source": [
    "#Measure of dispersion\n",
    "#maximum values\n",
    "columns_to_change = ['trestbps','chol','thalach','oldpeak','slope','thal','age']\n",
    "b = df[columns_to_change].max()\n",
    "b"
   ]
  },
  {
   "cell_type": "code",
   "execution_count": 7,
   "metadata": {},
   "outputs": [
    {
     "data": {
      "text/plain": [
       "trestbps     94.0\n",
       "chol        126.0\n",
       "thalach      71.0\n",
       "oldpeak       0.0\n",
       "slope         0.0\n",
       "thal          0.0\n",
       "age          29.0\n",
       "dtype: float64"
      ]
     },
     "execution_count": 7,
     "metadata": {},
     "output_type": "execute_result"
    }
   ],
   "source": [
    "#minimum values\n",
    "columns_to_change = ['trestbps','chol','thalach','oldpeak','slope','thal','age']\n",
    "c = df[columns_to_change].min()\n",
    "c"
   ]
  },
  {
   "cell_type": "code",
   "execution_count": 8,
   "metadata": {},
   "outputs": [
    {
     "name": "stdout",
     "output_type": "stream",
     "text": [
      "RANGE VALUE:\n"
     ]
    },
    {
     "data": {
      "text/plain": [
       "trestbps    106.0\n",
       "chol        438.0\n",
       "thalach     131.0\n",
       "oldpeak       6.2\n",
       "slope         2.0\n",
       "thal          3.0\n",
       "age          48.0\n",
       "dtype: float64"
      ]
     },
     "execution_count": 8,
     "metadata": {},
     "output_type": "execute_result"
    }
   ],
   "source": [
    "#range of values\n",
    "columns_to_change = ['trestbps','chol','thalach','oldpeak','slope','thal','age']\n",
    "range_value = df[columns_to_change].max() - df[columns_to_change].min()\n",
    "print(\"RANGE VALUE:\")\n",
    "range_value"
   ]
  },
  {
   "cell_type": "code",
   "execution_count": 9,
   "metadata": {},
   "outputs": [
    {
     "name": "stdout",
     "output_type": "stream",
     "text": [
      "VARIANCE:\n"
     ]
    },
    {
     "data": {
      "text/plain": [
       "trestbps     307.249800\n",
       "chol        2726.796225\n",
       "thalach      532.821511\n",
       "oldpeak        1.350216\n",
       "slope          0.375384\n",
       "thal           0.379607\n",
       "age           81.900349\n",
       "dtype: float64"
      ]
     },
     "execution_count": 9,
     "metadata": {},
     "output_type": "execute_result"
    }
   ],
   "source": [
    "#variance \n",
    "columns_to_change = ['trestbps','chol','thalach','oldpeak','slope','thal','age']\n",
    "variance_value = df[columns_to_change].var()\n",
    "print(\"VARIANCE:\")\n",
    "variance_value"
   ]
  },
  {
   "cell_type": "code",
   "execution_count": 10,
   "metadata": {},
   "outputs": [
    {
     "name": "stdout",
     "output_type": "stream",
     "text": [
      "STANDARD DEVIATION\n"
     ]
    },
    {
     "data": {
      "text/plain": [
       "trestbps    17.528542\n",
       "chol        52.218734\n",
       "thalach     23.082927\n",
       "oldpeak      1.161988\n",
       "slope        0.612685\n",
       "thal         0.616123\n",
       "age          9.049881\n",
       "dtype: float64"
      ]
     },
     "execution_count": 10,
     "metadata": {},
     "output_type": "execute_result"
    }
   ],
   "source": [
    "#standard deviation\n",
    "columns_to_change = ['trestbps','chol','thalach','oldpeak','slope','thal','age']\n",
    "standard_deviation = df[columns_to_change].std()\n",
    "print(\"STANDARD DEVIATION\")\n",
    "standard_deviation"
   ]
  },
  {
   "cell_type": "code",
   "execution_count": 11,
   "metadata": {},
   "outputs": [
    {
     "name": "stdout",
     "output_type": "stream",
     "text": [
      "PERCENTILE :\n",
      "trestbps    120.0\n",
      "chol        210.0\n",
      "thalach     132.0\n",
      "oldpeak       0.0\n",
      "slope         1.0\n",
      "thal          2.0\n",
      "age          48.0\n",
      "Name: 0.25, dtype: float64\n",
      "trestbps    130.0\n",
      "chol        240.0\n",
      "thalach     152.0\n",
      "oldpeak       0.8\n",
      "slope         1.0\n",
      "thal          2.0\n",
      "age          56.0\n",
      "Name: 0.5, dtype: float64\n",
      "trestbps    140.00\n",
      "chol        274.00\n",
      "thalach     165.25\n",
      "oldpeak       1.60\n",
      "slope         2.00\n",
      "thal          3.00\n",
      "age          61.00\n",
      "Name: 0.75, dtype: float64\n"
     ]
    }
   ],
   "source": [
    "#percentile \n",
    "columns_to_change = ['trestbps','chol','thalach','oldpeak','slope','thal','age']\n",
    "percentile_25 = df[columns_to_change].quantile(0.25)\n",
    "percentile_50= df[columns_to_change].quantile(0.50)\n",
    "percentile_75 = df[columns_to_change].quantile(0.75)\n",
    "print(\"PERCENTILE :\")\n",
    "print(percentile_25)\n",
    "print(percentile_50)\n",
    "print(percentile_75)"
   ]
  },
  {
   "cell_type": "code",
   "execution_count": 12,
   "metadata": {},
   "outputs": [
    {
     "name": "stdout",
     "output_type": "stream",
     "text": [
      "INTERQUANTILE RANGE : trestbps    20.00\n",
      "chol        64.00\n",
      "thalach     33.25\n",
      "oldpeak      1.60\n",
      "slope        1.00\n",
      "thal         1.00\n",
      "age         13.00\n",
      "dtype: float64\n"
     ]
    }
   ],
   "source": [
    "#Interquantile  Range \n",
    "columns_to_change = ['trestbps','chol','thalach','oldpeak','slope','thal','age']\n",
    "percentile_25 = df[columns_to_change].quantile(0.25)\n",
    "percentile_75 = df[columns_to_change].quantile(0.75)\n",
    "IQR = percentile_75 - percentile_25\n",
    "print(f\"INTERQUANTILE RANGE : {IQR}\")\n"
   ]
  },
  {
   "cell_type": "code",
   "execution_count": 13,
   "metadata": {},
   "outputs": [
    {
     "name": "stdout",
     "output_type": "stream",
     "text": [
      "age:-0.21053349410077826\n",
      "sex:-0.7896604745031519\n",
      "cp:0.5032007356817235\n",
      "trestbps:0.7011297295888034\n",
      "chol:1.1185083415358394\n",
      "fbs:1.946951386646303\n",
      "thalach:-0.5218831637630919\n",
      "exang:0.7366872019231162\n",
      "oldpeak:1.283741974188318\n"
     ]
    }
   ],
   "source": [
    "#shape of the distribution\n",
    "#skewness\n",
    "skewness = {}\n",
    "column_to_transform =['age','sex','cp','trestbps','chol','fbs','thalach','exang','oldpeak']\n",
    "for columns in column_to_transform:\n",
    "    skewness_dict = df[columns].skew()\n",
    "    skewness[columns] = skewness_dict\n",
    "for columns,skewness_dict in skewness.items():\n",
    "    print(f\"{columns}:{skewness_dict}\")"
   ]
  },
  {
   "cell_type": "code",
   "execution_count": 14,
   "metadata": {},
   "outputs": [],
   "source": [
    "#handling the skewness\n",
    "import numpy as np\n",
    "column_to_change =['age','sex','thalach']\n",
    "for columns in column_to_change:\n",
    "    df[columns] = np.log1p(df[columns])"
   ]
  },
  {
   "cell_type": "code",
   "execution_count": 15,
   "metadata": {},
   "outputs": [
    {
     "name": "stdout",
     "output_type": "stream",
     "text": [
      "age:-0.5849829546155384\n",
      "sex:-0.7896604745031519\n",
      "cp:0.5032007356817235\n",
      "trestbps:0.7011297295888034\n",
      "chol:1.1185083415358394\n",
      "fbs:1.946951386646303\n",
      "thalach:-0.9833255751092426\n",
      "exang:0.7366872019231162\n",
      "oldpeak:1.283741974188318\n"
     ]
    }
   ],
   "source": [
    "skewness = {}\n",
    "column_to_transform =['age','sex','cp','trestbps','chol','fbs','thalach','exang','oldpeak']\n",
    "for columns in column_to_transform:\n",
    "    skewness_dict = df[columns].skew()\n",
    "    skewness[columns] = skewness_dict\n",
    "for columns,skewness_dict in skewness.items():\n",
    "    print(f\"{columns}:{skewness_dict}\")"
   ]
  },
  {
   "cell_type": "code",
   "execution_count": 16,
   "metadata": {},
   "outputs": [
    {
     "data": {
      "text/plain": [
       "age       -0.110571\n",
       "sex       -1.385446\n",
       "thalach    1.105073\n",
       "dtype: float64"
      ]
     },
     "execution_count": 16,
     "metadata": {},
     "output_type": "execute_result"
    }
   ],
   "source": [
    "#kurtosis \n",
    "columns_to_change = ['trestbps','chol','thalach','oldpeak','slope','thal','age']\n",
    "kurtosis = df[column_to_change].kurt()\n",
    "kurtosis"
   ]
  }
 ],
 "metadata": {
  "kernelspec": {
   "display_name": "Python 3",
   "language": "python",
   "name": "python3"
  },
  "language_info": {
   "codemirror_mode": {
    "name": "ipython",
    "version": 3
   },
   "file_extension": ".py",
   "mimetype": "text/x-python",
   "name": "python",
   "nbconvert_exporter": "python",
   "pygments_lexer": "ipython3",
   "version": "3.12.4"
  }
 },
 "nbformat": 4,
 "nbformat_minor": 2
}
